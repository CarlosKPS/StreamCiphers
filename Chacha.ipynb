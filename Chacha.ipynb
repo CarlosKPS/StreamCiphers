{
 "cells": [
  {
   "cell_type": "markdown",
   "metadata": {},
   "source": [
    "# Chacha algorithm using python\n",
    "\n",
    "##### Name: Carlos Keleanderson Pereira da Silva\n",
    "##### Federal University of Rio de Janeiro"
   ]
  },
  {
   "cell_type": "code",
   "execution_count": 44,
   "metadata": {},
   "outputs": [],
   "source": [
    "def shift_left(number, shift):\n",
    "    \"\"\"The function receive a binary number such as a=bin(12) and compute a left shift in this number by the value\n",
    "    of a shift parameter.\n",
    "    number: an integer number\n",
    "    shift: number of bits shifted to the left\n",
    "    \"\"\"\n",
    "    \n",
    "    # A verification if the type is binary type and if yes tranform it into integer type to aplicate the shift function\n",
    "    #if type(number) is str:\n",
    "    #    n = int(number,2) # transforms into integer type\n",
    "    #else:\n",
    "    #    n = number\n",
    "    \n",
    "    # If the shift is bigger than the lenght of the binary number ( without the '0b' prefix) we must see the equivalent\n",
    "    # shift by using module function in python\n",
    "    # shift = shift%len(bin(n)[2:])\n",
    "    \n",
    "    n = number\n",
    "    # Now we apply the shift and after tranform into binary number\n",
    "    # n1 = bin(n<<(shift))\n",
    "    n1 = '0b'+n[2+shift:]+n[2:2+shift]\n",
    "    #print(len(number))\n",
    "    \n",
    "    if len(n1)==34:\n",
    "        return n1\n",
    "    else:\n",
    "        diff = abs(len(n1)-34)\n",
    "        return '0b'+'0'*diff+n1[2:]\n",
    "\n",
    "\n",
    "def shift_right(number, shift):\n",
    "    \"\"\"The function receive a binary number such as a=bin(12) and compute a right shift in this number by the value\n",
    "    of a shift parameter.\n",
    "    number: an integer number\n",
    "    shift: number of bits shifted to the right.\n",
    "    \"\"\"\n",
    "    \n",
    "    # A verification if the type is binary type and if yes tranform it into integer type to aplicate the shift function\n",
    "    if type(number) is str:\n",
    "        n = int(number,2) # transforms into integer type\n",
    "    else:\n",
    "        n = number\n",
    "        \n",
    "    # If the shift is bigger than the lenght of the binary number ( without the '0b' prefix) we must see the equivalent\n",
    "    # shift by using module function in python\n",
    "    shift = shift%len(bin(n)[2:])\n",
    "    \n",
    "    # If shift is zero then return the number istself\n",
    "    if not shift:\n",
    "        return bin(n)\n",
    "    # create an auxiliar matrix to store the bits will arase when apply n>>shift\n",
    "    n_aux = bin(n)[-shift:]\n",
    "    n1 = bin(n>>shift)[2:]\n",
    "    \n",
    "    # return the binary of shift bilding\n",
    "    return '0b'+n_aux+n1"
   ]
  },
  {
   "cell_type": "code",
   "execution_count": 47,
   "metadata": {},
   "outputs": [
    {
     "data": {
      "text/plain": [
       "20"
      ]
     },
     "execution_count": 47,
     "metadata": {},
     "output_type": "execute_result"
    }
   ],
   "source": [
    "# ****************************************\n",
    "# testing ********************************\n",
    "# ****************************************\n",
    "numero = '0b10100'\n",
    "[shift_right(numero,i) for i in range(1,10)]\n",
    "int([shift_left(numero,i) for i in range(1,10)][7],2)"
   ]
  },
  {
   "cell_type": "code",
   "execution_count": 122,
   "metadata": {},
   "outputs": [],
   "source": [
    "# defining xor operation and addition operation\n",
    "def xor(n1,n2):\n",
    "    if type(n1) is str:\n",
    "        n1 = int(n1,2)\n",
    "    else:\n",
    "        n1 = n1\n",
    "    if type(n2) is str:\n",
    "        n2 = int(n2,2)\n",
    "    else:\n",
    "        n2 = n2\n",
    "        \n",
    "    number = bin(n1^n2)\n",
    "    \n",
    "    #print(\"numero binario e tamanho \")\n",
    "    #print(number, len(number))\n",
    "    #print(\"n1 e n2\")\n",
    "    #print(n1,n2)\n",
    "    \n",
    "    if len(number)== 34:\n",
    "        return number\n",
    "    else:\n",
    "        diff = abs(len(number)-34)\n",
    "        return '0b'+'0'*diff+number[2:]\n",
    "\n",
    "def bit_sum(n1,n2,l=32):\n",
    "    # verifiying if is a bit class\n",
    "    if type(n1) is str:\n",
    "        n1 = n1\n",
    "    else:\n",
    "        n1 = bin(n1)\n",
    "    if type(n2) is str:\n",
    "        n2 = n2\n",
    "    else:\n",
    "        n2 = bin(n2)\n",
    "    \n",
    "    number = bin(int(n1,2) + int(n2,2))\n",
    "    \n",
    "    \"\"\"\n",
    "    number='' # create a list to add the binary number\n",
    "    carry = 0 # carry to use in the bit addition\n",
    "    \n",
    "    for i,j in zip(n1[2:][::-1],n2[2:][::-1]):\n",
    "        soma = int(i)+int(j)+carry\n",
    "        if soma%2==0:\n",
    "            carry = 1\n",
    "            number = number+str(0)\n",
    "        elif soma%3==0:\n",
    "            carry = 1\n",
    "            number = number+str(1)\n",
    "        else:\n",
    "            carry = 0\n",
    "            number = number+str(1)\n",
    "    \"\"\"\n",
    "    \n",
    "    if len(number[2:])==l:\n",
    "        return number\n",
    "    elif len(number[2:])<l:\n",
    "        diff = l-len(number[2:])\n",
    "        return '0b'+'0'*diff+number[2:]\n",
    "    else:\n",
    "        return '0b'+number[len(number)-32:]\n",
    "    "
   ]
  },
  {
   "cell_type": "code",
   "execution_count": 85,
   "metadata": {},
   "outputs": [
    {
     "data": {
      "text/plain": [
       "('0b11100000111100000001100101000110', '0b11001000010110100100101011100001')"
      ]
     },
     "execution_count": 85,
     "metadata": {},
     "output_type": "execute_result"
    }
   ],
   "source": [
    "n3,n4"
   ]
  },
  {
   "cell_type": "code",
   "execution_count": 89,
   "metadata": {},
   "outputs": [
    {
     "data": {
      "text/plain": [
       "34"
      ]
     },
     "execution_count": 89,
     "metadata": {},
     "output_type": "execute_result"
    }
   ],
   "source": [
    "len(bit_sum(n3,n4))"
   ]
  },
  {
   "cell_type": "code",
   "execution_count": 69,
   "metadata": {
    "scrolled": true
   },
   "outputs": [
    {
     "data": {
      "text/plain": [
       "'0b0111000101'"
      ]
     },
     "execution_count": 69,
     "metadata": {},
     "output_type": "execute_result"
    }
   ],
   "source": [
    "# ****************************\n",
    "# testing*********************\n",
    "#*****************************\n",
    "n1 = ('0b1100101010')\n",
    "n2 = ('0b1010011011')\n",
    "n3 = generate_key(32)\n",
    "n4 = generate_key(32)\n",
    "#xor(n1,n2), \n",
    "bit_sum(n1,n2)\n",
    "#bit_sum(n3,n4)"
   ]
  },
  {
   "cell_type": "code",
   "execution_count": 5,
   "metadata": {},
   "outputs": [],
   "source": [
    "# Function to generate a pseudo-random key\n",
    "# using random library\n",
    "import random\n",
    "\n",
    "def generate_key(n_bits):\n",
    "    \"\"\"This function return a key of n_bits bit\"\"\"\n",
    "    number = '' # aux vector to save all bits\n",
    "    \n",
    "    # Generates all key's bits\n",
    "    for i in range(0, n_bits):\n",
    "        number = number+str(random.randrange(0,2))\n",
    "    return '0b'+number"
   ]
  },
  {
   "cell_type": "code",
   "execution_count": 6,
   "metadata": {},
   "outputs": [],
   "source": [
    "# criar a matrix do chacha \n",
    "def generate_chacha_matrix(key,counter,n0,n1,n2,c0,c1,c2,c3,elements = 0):\n",
    "    try:\n",
    "        x0 = c0\n",
    "        x1 = c1\n",
    "        x2 = c2\n",
    "        x3 = c3\n",
    "        x4 = key[:34]\n",
    "        x5 = '0b'+key[34:66]\n",
    "        x6 = '0b'+key[66:98]\n",
    "        x7 = '0b'+key[98:130]\n",
    "        x8 = '0b'+key[130:162]\n",
    "        x9 = '0b'+key[162:194]\n",
    "        x10 = '0b'+key[194:226]\n",
    "        x11 = '0b'+key[226:]\n",
    "        x12 = counter\n",
    "        x13 = n0\n",
    "        x14 = n1\n",
    "        x15 = n2\n",
    "    except:\n",
    "        raise Exception(\" the key has not 256 or some of the inputs are not allowed\")\n",
    "    \n",
    "    if elements:\n",
    "        return [x0,x1,x2,x3,x4,x4,x5,x6,x7,x8,x9,x10,x11,x12,x13,x14,x15]\n",
    "    else:\n",
    "        return [[x0,x1,x2,x3],[x4,x5,x6,x7],[x8,x9,x10,x11],[x12,x13,x14,x15]]"
   ]
  },
  {
   "cell_type": "code",
   "execution_count": 105,
   "metadata": {},
   "outputs": [],
   "source": [
    "k_test = generate_key(256)\n",
    "# k_test, len(k_test[2:])\n",
    "\n",
    "# genereta aleatory nonce\n",
    "n0 = generate_key(32)\n",
    "n1 = generate_key(32)\n",
    "n2 = generate_key(32)\n",
    "\n",
    "# magic numbers\n",
    "c0 = bin(0x61707865)[:2]+'0'+bin(0x61707865)[2:]\n",
    "c1 = bin(0x3320646e)[:2]+'00'+bin(0x3320646e)[2:]\n",
    "c2 = bin(0x79622d32)[:2]+'0'+bin(0x79622d32)[2:]\n",
    "c3 = bin(0x6b206574)[:2]+'0'+bin(0x6b206574)[2:]"
   ]
  },
  {
   "cell_type": "code",
   "execution_count": 106,
   "metadata": {},
   "outputs": [
    {
     "data": {
      "text/plain": [
       "'0b1101110100100110000111111101110011101010110101011010011110110101000010110110011101100001001110101101001110011010111001110110101000111111101001000000111010101010000010101001011111110111110100100011000110100101010100011000111000101111011110001011110011001110'"
      ]
     },
     "execution_count": 106,
     "metadata": {},
     "output_type": "execute_result"
    }
   ],
   "source": [
    "k_test"
   ]
  },
  {
   "cell_type": "code",
   "execution_count": 110,
   "metadata": {},
   "outputs": [],
   "source": [
    "# Creating the Chacha matrix from the above parameters\n",
    "m_chacha = generate_chacha_matrix(k_test,'0b'+'0'*32,n0,n1,n2,c0,c1,c2,c3)\n",
    "#(m_chacha)\n",
    "# test all elements length\n",
    "\n",
    "#for i in m_chacha:\n",
    "#    for j in i:\n",
    "#        print(len(j[2:]))\n"
   ]
  },
  {
   "cell_type": "code",
   "execution_count": 111,
   "metadata": {},
   "outputs": [
    {
     "data": {
      "text/plain": [
       "('11011101001001100001111111011100',\n",
       " '11101010110101011010011110110101',\n",
       " '00001011011001110110000100111010',\n",
       " '11010011100110101110011101101010',\n",
       " '00111111101001000000111010101010',\n",
       " '00001010100101111111011111010010')"
      ]
     },
     "execution_count": 111,
     "metadata": {},
     "output_type": "execute_result"
    }
   ],
   "source": [
    "k_test[2:34], k_test[34:66],k_test[66:98],k_test[98:130],k_test[130:162],k_test[162:194]"
   ]
  },
  {
   "cell_type": "code",
   "execution_count": 9,
   "metadata": {},
   "outputs": [],
   "source": [
    "def quarter_round(a,b,c,d):\n",
    "    a = bit_sum(a,b)\n",
    "    d = xor(d,a)\n",
    "    d = shift_left(d,16)\n",
    "    c = bit_sum(c,d)\n",
    "    b = xor(b,c)\n",
    "    b = shift_left(b,12)\n",
    "    a = bit_sum(a,b)\n",
    "    d = xor(d,a)\n",
    "    d = shift_left(d,8)\n",
    "    c = bit_sum(c,d)\n",
    "    b = xor(b,c)\n",
    "    b = shift_left(b,7)\n",
    "    \n",
    "    return a,b,c,d"
   ]
  },
  {
   "cell_type": "code",
   "execution_count": 124,
   "metadata": {},
   "outputs": [
    {
     "data": {
      "text/plain": [
       "('0b00000000000000000000000000000000',\n",
       " '0b00111110100101101001100001000001',\n",
       " 34)"
      ]
     },
     "execution_count": 124,
     "metadata": {},
     "output_type": "execute_result"
    }
   ],
   "source": [
    "# TEST\n",
    "x0,x1,x2,x3 = m_chacha[0][0],m_chacha[1][0],m_chacha[2][0],m_chacha[3][0]\n",
    "\n",
    "x0 = (bit_sum(x0,x1))\n",
    "#x0,len(x0)\n",
    "(x3,x0, len(xor(x3,x0)))"
   ]
  },
  {
   "cell_type": "code",
   "execution_count": 125,
   "metadata": {},
   "outputs": [
    {
     "name": "stdout",
     "output_type": "stream",
     "text": [
      "0b00011011101111001011100000011101 34\n",
      "0b00111110100101101001100001000001 34\n",
      "0b10011000010000010011111010010110 34\n",
      "0b11010111111001010100110101000000 34\n",
      "0b00001010110000110101001010011100 34\n",
      "0b00110101001010011100000010101100 34\n",
      "0b01010000111001100111100011001001 34\n",
      "0b11001000101001110100011001011111 34\n",
      "0b10100111010001100101111111001000 34\n",
      "0b01111111001010111010110100001000 34\n",
      "0b01001010000000100110110110100100 34\n"
     ]
    }
   ],
   "source": [
    "# It was a big debug part\n",
    "a = bit_sum(x0,x1)\n",
    "print(a, len(a))\n",
    "d = xor(x3,x0)\n",
    "print(d, len(d))\n",
    "d = shift_left(d,16)\n",
    "print(d, len(d))\n",
    "c = bit_sum(x2,d)\n",
    "print(c, len(c))\n",
    "b = xor(x1,c)\n",
    "print(b, len(b))\n",
    "b = shift_left(b,12)\n",
    "print(b, len(b))\n",
    "a = bit_sum(a,b)\n",
    "print(a, len(a))\n",
    "d = xor(d,a)\n",
    "print(d, len(d))\n",
    "d = shift_left(d,8)\n",
    "print(d, len(d))\n",
    "c = bit_sum(c,d)\n",
    "print(c, len(c))\n",
    "b = xor(b,c)\n",
    "print(b, len(b))\n",
    "b = shift_left(b,7)\n"
   ]
  },
  {
   "cell_type": "code",
   "execution_count": 126,
   "metadata": {},
   "outputs": [
    {
     "name": "stdout",
     "output_type": "stream",
     "text": [
      "0b01110011110000000101100011101101 34\n",
      "0b00110001000001001100001110110110 34\n",
      "0b01011001010010111100100100101011 34\n",
      "0b10000001011001100111101111101011 34\n"
     ]
    }
   ],
   "source": [
    "# Testing quarter round function\n",
    "a,b,c,d = quarter_round(m_chacha[0][0],m_chacha[1][0],m_chacha[2][0],m_chacha[3][0])\n",
    "print(a,len(a))\n",
    "print(b,len(b))\n",
    "print(c,len(c))\n",
    "print(d,len(d))"
   ]
  },
  {
   "cell_type": "code",
   "execution_count": 135,
   "metadata": {},
   "outputs": [],
   "source": [
    "def chacha_round(matrix):\n",
    "    M = matrix\n",
    "    # Column Round\n",
    "    M[0][0],M[1][0],M[2][0],M[3][0] = quarter_round(M[0][0],M[1][0],M[2][0],M[3][0])\n",
    "    M[0][1],M[1][1],M[2][1],M[3][1] = quarter_round(M[0][1],M[1][1],M[2][1],M[3][1])    \n",
    "    M[0][2],M[1][2],M[2][2],M[3][2] = quarter_round(M[0][2],M[1][2],M[2][2],M[3][2])\n",
    "    M[0][3],M[1][3],M[2][3],M[3][3] = quarter_round(M[0][3],M[1][3],M[2][3],M[3][3])\n",
    "    # Diagonal Round\n",
    "    M[0][0],M[1][1],M[2][2],M[3][3] = quarter_round(M[0][0],M[1][1],M[2][2],M[3][3])\n",
    "    M[0][1],M[1][2],M[2][3],M[3][0] = quarter_round(M[0][1],M[1][2],M[2][3],M[3][0])\n",
    "    M[0][2],M[1][3],M[2][0],M[3][1] = quarter_round(M[0][2],M[1][3],M[2][0],M[3][1])\n",
    "    M[0][3],M[1][0],M[2][1],M[3][2] = quarter_round(M[0][3],M[1][0],M[2][1],M[3][2])\n",
    "    \n",
    "    return M"
   ]
  },
  {
   "cell_type": "code",
   "execution_count": 136,
   "metadata": {},
   "outputs": [
    {
     "name": "stdout",
     "output_type": "stream",
     "text": [
      "34\n",
      "34\n",
      "34\n",
      "34\n",
      "34\n",
      "34\n",
      "34\n",
      "34\n",
      "34\n",
      "34\n",
      "34\n",
      "34\n",
      "34\n",
      "34\n",
      "34\n",
      "34\n"
     ]
    }
   ],
   "source": [
    "M = chacha_round(m_chacha)\n",
    "for i in M:\n",
    "    for j in i:\n",
    "        print(len(j)"
   ]
  },
  {
   "cell_type": "code",
   "execution_count": 137,
   "metadata": {},
   "outputs": [
    {
     "data": {
      "text/plain": [
       "[['0b01010101010100101100110101001000',\n",
       "  '0b01011001110010111000010111100101',\n",
       "  '0b10101010101010011011001101000010',\n",
       "  '0b00011100101100011101110000100111'],\n",
       " ['0b00011100111111101101000110001101',\n",
       "  '0b10010100111011000001000000001010',\n",
       "  '0b10011101010101001110010111111101',\n",
       "  '0b00011000000010110100010111010101'],\n",
       " ['0b11000000101100001011111011110111',\n",
       "  '0b01101000111111100000110111111010',\n",
       "  '0b01101000101110110110010100000010',\n",
       "  '0b00011000101000011000110111011000'],\n",
       " ['0b00110001101011110010010010001110',\n",
       "  '0b01010010111100001110100110110011',\n",
       "  '0b00011010111001001010001001100000',\n",
       "  '0b11100110010010101111010101100100']]"
      ]
     },
     "execution_count": 137,
     "metadata": {},
     "output_type": "execute_result"
    }
   ],
   "source": [
    "M"
   ]
  },
  {
   "cell_type": "code",
   "execution_count": 20,
   "metadata": {},
   "outputs": [
    {
     "data": {
      "text/plain": [
       "'0b00000000000000000000000000000000'"
      ]
     },
     "execution_count": 20,
     "metadata": {},
     "output_type": "execute_result"
    }
   ],
   "source": [
    "shift_left('0b010',4)"
   ]
  },
  {
   "cell_type": "code",
   "execution_count": 22,
   "metadata": {},
   "outputs": [],
   "source": [
    "b1 = generate_key(32)"
   ]
  },
  {
   "cell_type": "code",
   "execution_count": 24,
   "metadata": {},
   "outputs": [
    {
     "data": {
      "text/plain": [
       "'0b01100010010001100101000110111110'"
      ]
     },
     "execution_count": 24,
     "metadata": {},
     "output_type": "execute_result"
    }
   ],
   "source": [
    "shift_left(b1,2)"
   ]
  },
  {
   "cell_type": "code",
   "execution_count": 45,
   "metadata": {},
   "outputs": [
    {
     "data": {
      "text/plain": [
       "('0b01011000100100011001010001101111',\n",
       " '0b01100010010001100101000110111101',\n",
       " 34)"
      ]
     },
     "execution_count": 45,
     "metadata": {},
     "output_type": "execute_result"
    }
   ],
   "source": [
    "b1,shift_left(b1,2),len(shift_left(b1,2)) "
   ]
  },
  {
   "cell_type": "code",
   "execution_count": 138,
   "metadata": {},
   "outputs": [],
   "source": [
    "def all_rounds(matrix):\n",
    "    for i in range(0,9):\n",
    "        chacha_round(matrix)\n",
    "    return matrix"
   ]
  },
  {
   "cell_type": "code",
   "execution_count": 139,
   "metadata": {},
   "outputs": [
    {
     "data": {
      "text/plain": [
       "[['0b10111000110001110001000101000110',\n",
       "  '0b10001101110011001011101000110101',\n",
       "  '0b00011010011101011010001011101000',\n",
       "  '0b01100100010101001010101000101100'],\n",
       " ['0b11010101100100001011111000010100',\n",
       "  '0b11011010001010011001101111110010',\n",
       "  '0b00000101111110100110101000101011',\n",
       "  '0b11100000011011001010011011010001'],\n",
       " ['0b11101011010010010101001010111010',\n",
       "  '0b11001001010101100111110010011101',\n",
       "  '0b01110100101111011111001101110100',\n",
       "  '0b10001111111100001000111100100101'],\n",
       " ['0b10110111011010010101010010000000',\n",
       "  '0b11011111101110011110111001111000',\n",
       "  '0b00011001011110100001011000110000',\n",
       "  '0b10111010010101001001111101011000']]"
      ]
     },
     "execution_count": 139,
     "metadata": {},
     "output_type": "execute_result"
    }
   ],
   "source": [
    "all_rounds(m_chacha)"
   ]
  },
  {
   "cell_type": "code",
   "execution_count": null,
   "metadata": {},
   "outputs": [],
   "source": []
  }
 ],
 "metadata": {
  "kernelspec": {
   "display_name": "Python 3",
   "language": "python",
   "name": "python3"
  },
  "language_info": {
   "codemirror_mode": {
    "name": "ipython",
    "version": 3
   },
   "file_extension": ".py",
   "mimetype": "text/x-python",
   "name": "python",
   "nbconvert_exporter": "python",
   "pygments_lexer": "ipython3",
   "version": "3.7.9"
  }
 },
 "nbformat": 4,
 "nbformat_minor": 4
}
